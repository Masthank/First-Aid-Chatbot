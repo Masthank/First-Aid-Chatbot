{
 "cells": [
  {
   "cell_type": "markdown",
   "id": "03ad6ed6",
   "metadata": {},
   "source": [
    "# DataPreprocessing"
   ]
  },
  {
   "cell_type": "code",
   "execution_count": 1,
   "id": "e52ed8c3",
   "metadata": {},
   "outputs": [],
   "source": [
    "import warnings\n",
    "warnings.filterwarnings('ignore')"
   ]
  },
  {
   "cell_type": "code",
   "execution_count": 2,
   "id": "a4f11544",
   "metadata": {},
   "outputs": [],
   "source": [
    "import pandas as pd"
   ]
  },
  {
   "cell_type": "code",
   "execution_count": 3,
   "id": "19f3bd44",
   "metadata": {},
   "outputs": [],
   "source": [
    "data = pd.read_json('intents(m).json')"
   ]
  },
  {
   "cell_type": "code",
   "execution_count": 4,
   "id": "0e349208",
   "metadata": {},
   "outputs": [
    {
     "data": {
      "text/html": [
       "<div>\n",
       "<style scoped>\n",
       "    .dataframe tbody tr th:only-of-type {\n",
       "        vertical-align: middle;\n",
       "    }\n",
       "\n",
       "    .dataframe tbody tr th {\n",
       "        vertical-align: top;\n",
       "    }\n",
       "\n",
       "    .dataframe thead th {\n",
       "        text-align: right;\n",
       "    }\n",
       "</style>\n",
       "<table border=\"1\" class=\"dataframe\">\n",
       "  <thead>\n",
       "    <tr style=\"text-align: right;\">\n",
       "      <th></th>\n",
       "      <th>intents</th>\n",
       "    </tr>\n",
       "  </thead>\n",
       "  <tbody>\n",
       "    <tr>\n",
       "      <th>0</th>\n",
       "      <td>{'tag': 'Cuts', 'patterns': ['What to do if Cu...</td>\n",
       "    </tr>\n",
       "    <tr>\n",
       "      <th>1</th>\n",
       "      <td>{'tag': 'Abrasions', 'patterns': ['how do you ...</td>\n",
       "    </tr>\n",
       "    <tr>\n",
       "      <th>2</th>\n",
       "      <td>{'tag': 'stings', 'patterns': ['How do you tre...</td>\n",
       "    </tr>\n",
       "    <tr>\n",
       "      <th>3</th>\n",
       "      <td>{'tag': 'Splinter', 'patterns': ['How to remov...</td>\n",
       "    </tr>\n",
       "    <tr>\n",
       "      <th>4</th>\n",
       "      <td>{'tag': 'Sprains', 'patterns': ['How do you tr...</td>\n",
       "    </tr>\n",
       "  </tbody>\n",
       "</table>\n",
       "</div>"
      ],
      "text/plain": [
       "                                             intents\n",
       "0  {'tag': 'Cuts', 'patterns': ['What to do if Cu...\n",
       "1  {'tag': 'Abrasions', 'patterns': ['how do you ...\n",
       "2  {'tag': 'stings', 'patterns': ['How do you tre...\n",
       "3  {'tag': 'Splinter', 'patterns': ['How to remov...\n",
       "4  {'tag': 'Sprains', 'patterns': ['How do you tr..."
      ]
     },
     "execution_count": 4,
     "metadata": {},
     "output_type": "execute_result"
    }
   ],
   "source": [
    "data.head()"
   ]
  },
  {
   "cell_type": "code",
   "execution_count": 5,
   "id": "0efe9077",
   "metadata": {},
   "outputs": [
    {
     "data": {
      "text/plain": [
       "(48, 1)"
      ]
     },
     "execution_count": 5,
     "metadata": {},
     "output_type": "execute_result"
    }
   ],
   "source": [
    "data.shape"
   ]
  },
  {
   "cell_type": "code",
   "execution_count": 6,
   "id": "4acff3ed",
   "metadata": {},
   "outputs": [
    {
     "name": "stdout",
     "output_type": "stream",
     "text": [
      "<class 'pandas.core.frame.DataFrame'>\n",
      "RangeIndex: 48 entries, 0 to 47\n",
      "Data columns (total 1 columns):\n",
      " #   Column   Non-Null Count  Dtype \n",
      "---  ------   --------------  ----- \n",
      " 0   intents  48 non-null     object\n",
      "dtypes: object(1)\n",
      "memory usage: 512.0+ bytes\n"
     ]
    }
   ],
   "source": [
    "data.info()"
   ]
  },
  {
   "cell_type": "code",
   "execution_count": 7,
   "id": "cdf5bd45",
   "metadata": {},
   "outputs": [],
   "source": [
    "df = data.dropna()"
   ]
  },
  {
   "cell_type": "code",
   "execution_count": 8,
   "id": "c486645a",
   "metadata": {},
   "outputs": [
    {
     "data": {
      "text/plain": [
       "intents    0\n",
       "dtype: int64"
      ]
     },
     "execution_count": 8,
     "metadata": {},
     "output_type": "execute_result"
    }
   ],
   "source": [
    "df.isnull().sum()"
   ]
  },
  {
   "cell_type": "code",
   "execution_count": 9,
   "id": "76a208a9",
   "metadata": {},
   "outputs": [
    {
     "data": {
      "text/plain": [
       "<bound method DataFrame.info of                                               intents\n",
       "0   {'tag': 'Cuts', 'patterns': ['What to do if Cu...\n",
       "1   {'tag': 'Abrasions', 'patterns': ['how do you ...\n",
       "2   {'tag': 'stings', 'patterns': ['How do you tre...\n",
       "3   {'tag': 'Splinter', 'patterns': ['How to remov...\n",
       "4   {'tag': 'Sprains', 'patterns': ['How do you tr...\n",
       "5   {'tag': 'Strains', 'patterns': ['How do you tr...\n",
       "6   {'tag': 'Fever', 'patterns': ['How do you trea...\n",
       "7   {'tag': 'Nasal Congestion', 'patterns': ['How ...\n",
       "8   {'tag': 'Cough', 'patterns': ['How to cure cou...\n",
       "9   {'tag': 'Sore Throat', 'patterns': ['How do yo...\n",
       "10  {'tag': 'Gastrointestinal problems', 'patterns...\n",
       "11  {'tag': 'Skin problems', 'patterns': ['How do ...\n",
       "12  {'tag': 'Abdonominal Pain', 'patterns': ['How ...\n",
       "13  {'tag': 'Bruises', 'patterns': ['How do you tr...\n",
       "14  {'tag': 'Broken Toe', 'patterns': ['How do you...\n",
       "15  {'tag': 'Choking', 'patterns': ['How do you tr...\n",
       "16  {'tag': 'Wound', 'patterns': ['How do you trea...\n",
       "17  {'tag': 'Diarrhea', 'patterns': ['How do you t...\n",
       "18  {'tag': 'Frost bite', 'patterns': ['How do you...\n",
       "19  {'tag': 'Heat Exhaustion', 'patterns': ['How d...\n",
       "20  {'tag': 'Heat Stroke', 'patterns': ['How do yo...\n",
       "21  {'tag': 'Insect Bites', 'patterns': ['How do y...\n",
       "22  {'tag': 'nose_bleed', 'patterns': ['How do you...\n",
       "23  {'tag': 'Pulled Muscle', 'patterns': ['How do ...\n",
       "24  {'tag': 'Rectal bleeding', 'patterns': ['How d...\n",
       "25  {'tag': 'Sun Burn', 'patterns': ['How do you t...\n",
       "26  {'tag': 'Testicle Pain', 'patterns': ['How do ...\n",
       "27  {'tag': 'Vertigo', 'patterns': ['How do you tr...\n",
       "28  {'tag': 'Normal Bleeding', 'patterns': ['How d...\n",
       "29  {'tag': 'Eye Injury', 'patterns': ['How do you...\n",
       "30  {'tag': 'Chemical Burn', 'patterns': ['How do ...\n",
       "31  {'tag': 'Poison', 'patterns': ['How do you tre...\n",
       "32  {'tag': 'Teeth', 'patterns': ['How do you trea...\n",
       "33  {'tag': 'seizure', 'patterns': ['How do you tr...\n",
       "34  {'tag': 'Head Injury', 'patterns': ['How do yo...\n",
       "35  {'tag': 'Fainting', 'patterns': ['How do you t...\n",
       "36  {'tag': 'Headache', 'patterns': ['How do you t...\n",
       "37  {'tag': 'Head Injury', 'patterns': ['How do yo...\n",
       "38  {'tag': 'Fainting', 'patterns': ['How do you t...\n",
       "39  {'tag': 'Headache', 'patterns': ['How do you t...\n",
       "40  {'tag': 'Cold', 'patterns': ['How do you treat...\n",
       "41  {'tag': 'Rash', 'patterns': ['How do you treat...\n",
       "42  {'tag': 'snake bite', 'patterns': ['How do you...\n",
       "43  {'tag': 'animal bite', 'patterns': ['How do yo...\n",
       "44  {'tag': 'Drowning', 'patterns': ['What to do i...\n",
       "45  {'tag': 'CPR', 'patterns': ['How to give CPR??...\n",
       "46  {'tag': 'Fracture', 'patterns': ['How do you t...\n",
       "47  {'tag': 'Greetings', 'patterns': ['Hello', 'Hi...>"
      ]
     },
     "execution_count": 9,
     "metadata": {},
     "output_type": "execute_result"
    }
   ],
   "source": [
    "df.info\n"
   ]
  },
  {
   "cell_type": "code",
   "execution_count": 10,
   "id": "f7dcf3e2",
   "metadata": {},
   "outputs": [
    {
     "data": {
      "text/plain": [
       "Index(['intents'], dtype='object')"
      ]
     },
     "execution_count": 10,
     "metadata": {},
     "output_type": "execute_result"
    }
   ],
   "source": [
    "df.columns"
   ]
  },
  {
   "cell_type": "code",
   "execution_count": 11,
   "id": "bfed1db2",
   "metadata": {},
   "outputs": [
    {
     "data": {
      "text/plain": [
       "48"
      ]
     },
     "execution_count": 11,
     "metadata": {},
     "output_type": "execute_result"
    }
   ],
   "source": [
    "df.size"
   ]
  },
  {
   "cell_type": "code",
   "execution_count": 12,
   "id": "f66345bc",
   "metadata": {},
   "outputs": [
    {
     "data": {
      "text/html": [
       "<div>\n",
       "<style scoped>\n",
       "    .dataframe tbody tr th:only-of-type {\n",
       "        vertical-align: middle;\n",
       "    }\n",
       "\n",
       "    .dataframe tbody tr th {\n",
       "        vertical-align: top;\n",
       "    }\n",
       "\n",
       "    .dataframe thead th {\n",
       "        text-align: right;\n",
       "    }\n",
       "</style>\n",
       "<table border=\"1\" class=\"dataframe\">\n",
       "  <thead>\n",
       "    <tr style=\"text-align: right;\">\n",
       "      <th></th>\n",
       "      <th>intents</th>\n",
       "    </tr>\n",
       "  </thead>\n",
       "  <tbody>\n",
       "    <tr>\n",
       "      <th>count</th>\n",
       "      <td>48</td>\n",
       "    </tr>\n",
       "    <tr>\n",
       "      <th>unique</th>\n",
       "      <td>48</td>\n",
       "    </tr>\n",
       "    <tr>\n",
       "      <th>top</th>\n",
       "      <td>{'tag': 'Cuts', 'patterns': ['What to do if Cu...</td>\n",
       "    </tr>\n",
       "    <tr>\n",
       "      <th>freq</th>\n",
       "      <td>1</td>\n",
       "    </tr>\n",
       "  </tbody>\n",
       "</table>\n",
       "</div>"
      ],
      "text/plain": [
       "                                                  intents\n",
       "count                                                  48\n",
       "unique                                                 48\n",
       "top     {'tag': 'Cuts', 'patterns': ['What to do if Cu...\n",
       "freq                                                    1"
      ]
     },
     "execution_count": 12,
     "metadata": {},
     "output_type": "execute_result"
    }
   ],
   "source": [
    "df.describe()"
   ]
  },
  {
   "cell_type": "code",
   "execution_count": 13,
   "id": "506c330d",
   "metadata": {},
   "outputs": [
    {
     "data": {
      "text/html": [
       "<div>\n",
       "<style scoped>\n",
       "    .dataframe tbody tr th:only-of-type {\n",
       "        vertical-align: middle;\n",
       "    }\n",
       "\n",
       "    .dataframe tbody tr th {\n",
       "        vertical-align: top;\n",
       "    }\n",
       "\n",
       "    .dataframe thead th {\n",
       "        text-align: right;\n",
       "    }\n",
       "</style>\n",
       "<table border=\"1\" class=\"dataframe\">\n",
       "  <thead>\n",
       "    <tr style=\"text-align: right;\">\n",
       "      <th></th>\n",
       "      <th>intents</th>\n",
       "    </tr>\n",
       "  </thead>\n",
       "  <tbody>\n",
       "    <tr>\n",
       "      <th>0</th>\n",
       "      <td>{'tag': 'Cuts', 'patterns': ['What to do if Cu...</td>\n",
       "    </tr>\n",
       "    <tr>\n",
       "      <th>1</th>\n",
       "      <td>{'tag': 'Abrasions', 'patterns': ['how do you ...</td>\n",
       "    </tr>\n",
       "    <tr>\n",
       "      <th>2</th>\n",
       "      <td>{'tag': 'stings', 'patterns': ['How do you tre...</td>\n",
       "    </tr>\n",
       "    <tr>\n",
       "      <th>3</th>\n",
       "      <td>{'tag': 'Splinter', 'patterns': ['How to remov...</td>\n",
       "    </tr>\n",
       "    <tr>\n",
       "      <th>4</th>\n",
       "      <td>{'tag': 'Sprains', 'patterns': ['How do you tr...</td>\n",
       "    </tr>\n",
       "  </tbody>\n",
       "</table>\n",
       "</div>"
      ],
      "text/plain": [
       "                                             intents\n",
       "0  {'tag': 'Cuts', 'patterns': ['What to do if Cu...\n",
       "1  {'tag': 'Abrasions', 'patterns': ['how do you ...\n",
       "2  {'tag': 'stings', 'patterns': ['How do you tre...\n",
       "3  {'tag': 'Splinter', 'patterns': ['How to remov...\n",
       "4  {'tag': 'Sprains', 'patterns': ['How do you tr..."
      ]
     },
     "execution_count": 13,
     "metadata": {},
     "output_type": "execute_result"
    }
   ],
   "source": [
    "df.head()"
   ]
  },
  {
   "cell_type": "code",
   "execution_count": 14,
   "id": "16afd0e0",
   "metadata": {},
   "outputs": [
    {
     "data": {
      "text/html": [
       "<div>\n",
       "<style scoped>\n",
       "    .dataframe tbody tr th:only-of-type {\n",
       "        vertical-align: middle;\n",
       "    }\n",
       "\n",
       "    .dataframe tbody tr th {\n",
       "        vertical-align: top;\n",
       "    }\n",
       "\n",
       "    .dataframe thead th {\n",
       "        text-align: right;\n",
       "    }\n",
       "</style>\n",
       "<table border=\"1\" class=\"dataframe\">\n",
       "  <thead>\n",
       "    <tr style=\"text-align: right;\">\n",
       "      <th></th>\n",
       "      <th>intents</th>\n",
       "    </tr>\n",
       "  </thead>\n",
       "  <tbody>\n",
       "    <tr>\n",
       "      <th>0</th>\n",
       "      <td>{'tag': 'Cuts', 'patterns': ['What to do if Cu...</td>\n",
       "    </tr>\n",
       "    <tr>\n",
       "      <th>1</th>\n",
       "      <td>{'tag': 'Abrasions', 'patterns': ['how do you ...</td>\n",
       "    </tr>\n",
       "    <tr>\n",
       "      <th>2</th>\n",
       "      <td>{'tag': 'stings', 'patterns': ['How do you tre...</td>\n",
       "    </tr>\n",
       "    <tr>\n",
       "      <th>3</th>\n",
       "      <td>{'tag': 'Splinter', 'patterns': ['How to remov...</td>\n",
       "    </tr>\n",
       "    <tr>\n",
       "      <th>4</th>\n",
       "      <td>{'tag': 'Sprains', 'patterns': ['How do you tr...</td>\n",
       "    </tr>\n",
       "  </tbody>\n",
       "</table>\n",
       "</div>"
      ],
      "text/plain": [
       "                                             intents\n",
       "0  {'tag': 'Cuts', 'patterns': ['What to do if Cu...\n",
       "1  {'tag': 'Abrasions', 'patterns': ['how do you ...\n",
       "2  {'tag': 'stings', 'patterns': ['How do you tre...\n",
       "3  {'tag': 'Splinter', 'patterns': ['How to remov...\n",
       "4  {'tag': 'Sprains', 'patterns': ['How do you tr..."
      ]
     },
     "execution_count": 14,
     "metadata": {},
     "output_type": "execute_result"
    }
   ],
   "source": [
    "df.head()"
   ]
  },
  {
   "cell_type": "code",
   "execution_count": null,
   "id": "c1253d09",
   "metadata": {},
   "outputs": [],
   "source": []
  },
  {
   "cell_type": "code",
   "execution_count": null,
   "id": "090e6524",
   "metadata": {},
   "outputs": [],
   "source": []
  }
 ],
 "metadata": {
  "kernelspec": {
   "display_name": "Python 3 (ipykernel)",
   "language": "python",
   "name": "python3"
  },
  "language_info": {
   "codemirror_mode": {
    "name": "ipython",
    "version": 3
   },
   "file_extension": ".py",
   "mimetype": "text/x-python",
   "name": "python",
   "nbconvert_exporter": "python",
   "pygments_lexer": "ipython3",
   "version": "3.11.7"
  }
 },
 "nbformat": 4,
 "nbformat_minor": 5
}
